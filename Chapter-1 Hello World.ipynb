{
 "cells": [
  {
   "cell_type": "markdown",
   "metadata": {},
   "source": [
    "# Hello world of neural networks"
   ]
  },
  {
   "cell_type": "markdown",
   "metadata": {},
   "source": [
    "## Quick overview of a simple feedforward neural network"
   ]
  },
  {
   "cell_type": "markdown",
   "metadata": {},
   "source": [
    "A neural network is a type of machine learning algorythm which models itself after the human brain, creating an artificial neural network that allows the computer to learn by incorporating new data."
   ]
  },
  {
   "attachments": {},
   "cell_type": "markdown",
   "metadata": {},
   "source": [
    "![Picture of a neural network](pictures/NN_schema.png)"
   ]
  },
  {
   "cell_type": "markdown",
   "metadata": {},
   "source": [
    "Each circle in the above diagram is called a **neuron**. \n",
    "\n",
    "Each neuron has an **activation function**.\n",
    "\n",
    "Most of the basic neural networks have an **input layer**, at least one **hidden layer** and and **output layer**. \n",
    "\n",
    "The arrows in the above diagram are called **connections**. Each connection provides the output of one neuron as an input to another neuron. Each connection is assigned a **weight** that represents its relative importance.\n",
    "\n",
    "Given an input, the network **forward propagates** the data via all the network and makes a prediction of $\\hat{y}$ and an error is calculated, for example, $E:=(y - \\hat{y})^{2}$. Then, during **backpropogation**, all the weights of the network are readjusted in such a way that the connections that had the biggest impact to the error are diminished. \n",
    "\n",
    "One iteration of feedforward and backpropogation is called an **epoch**. "
   ]
  },
  {
   "cell_type": "markdown",
   "metadata": {},
   "source": [
    "There are a lot of resources that explain every bolded term. I will assume that the reader has at least an intuitive understanding of the concepts of deep learning and focus more on the implementation of neural networks in tensorflow and keras. "
   ]
  },
  {
   "cell_type": "markdown",
   "metadata": {},
   "source": [
    "## Tensorflow and Keras"
   ]
  },
  {
   "cell_type": "markdown",
   "metadata": {},
   "source": [
    "TensorFlow (**tf** for short) is an end-to-end open source platform for machine learning. It has a comprehensive, flexible ecosystem of tools, libraries and community resources that lets researchers push the state-of-the-art in ML and developers easily build and deploy ML powered applications. \n",
    "\n",
    "As the name suggests, tensorflow deal with the *flow* of *tensors*. The flow represents the forward and back propogations and tensors are data represented as tensors.\n",
    "\n",
    "Throughout every notebook, I will be using tensorflow version **2.0.0**. \n",
    "\n",
    "Keras is a high-level neural networks API, written in Python and capable of running on top of TensorFlow. It was developed with a focus on enabling fast experimentation. Being able to go from idea to result with the least possible delay is key to doing good research.\n",
    "\n",
    "To summarize, one can view the relationship between tensorflow and keras as tensorflow beeing used for deep calculations in the computer backend and keras is an API to query the backend."
   ]
  },
  {
   "cell_type": "code",
   "execution_count": 1,
   "metadata": {},
   "outputs": [
    {
     "name": "stdout",
     "output_type": "stream",
     "text": [
      "2.0.0\n"
     ]
    }
   ],
   "source": [
    "import tensorflow as tf\n",
    "from tensorflow import keras\n",
    "\n",
    "print(tf.__version__)"
   ]
  },
  {
   "cell_type": "markdown",
   "metadata": {},
   "source": [
    "## A very simple neural network"
   ]
  },
  {
   "cell_type": "markdown",
   "metadata": {},
   "source": [
    "Imagine we see the numbers [0, 1, 2, 3, 4, 5] and [-1, 1, 3, 5, 7, 9]. If I asked you to come up with a rule that links the first list of numbers with the second, how would you do it? Maybe you would look at the 0 and -1 pair and start your deduction from there. Then you would analyze the pair of 1 and 1 and so on. \n",
    "\n",
    "The rule is that the second list of numbers are made by multiplying the first list numbers and subtracting one. The process of thinking of the rule, iterating through all the numbers in your head, going back and forth and seeing how good does your rule fit the data is a very similar process what a deep learning algorythm does. \n",
    "\n",
    "I will create a single layered neural network to solve this issue. As it turns out, to get good results, a very simple neural network is sufficient."
   ]
  },
  {
   "cell_type": "code",
   "execution_count": 2,
   "metadata": {},
   "outputs": [],
   "source": [
    "import numpy as np\n",
    "import matplotlib.pyplot as plt"
   ]
  },
  {
   "cell_type": "markdown",
   "metadata": {},
   "source": [
    "Function definition:\n",
    "\n",
    "$$y:= f(x) = x * 2 - 1$$"
   ]
  },
  {
   "cell_type": "markdown",
   "metadata": {},
   "source": [
    "Function definition in python:"
   ]
  },
  {
   "cell_type": "code",
   "execution_count": 3,
   "metadata": {},
   "outputs": [],
   "source": [
    "def f(x) -> float: \n",
    "    \"\"\"\n",
    "    A simple function\n",
    "    \"\"\"\n",
    "    return x * 2 - 1"
   ]
  },
  {
   "cell_type": "markdown",
   "metadata": {},
   "source": [
    "Creating points in python:"
   ]
  },
  {
   "cell_type": "code",
   "execution_count": 4,
   "metadata": {},
   "outputs": [],
   "source": [
    "xs = [0, 1, 2, 3, 4, 5]\n",
    "ys = [f(x) for x in xs]"
   ]
  },
  {
   "cell_type": "code",
   "execution_count": 5,
   "metadata": {},
   "outputs": [
    {
     "name": "stdout",
     "output_type": "stream",
     "text": [
      "x: [0, 1, 2, 3, 4, 5]   f(x): [-1, 1, 3, 5, 7, 9]\n"
     ]
    }
   ],
   "source": [
    "print(f\"\"\"x: {xs}   f(x): {ys}\"\"\")"
   ]
  },
  {
   "cell_type": "code",
   "execution_count": 6,
   "metadata": {},
   "outputs": [
    {
     "data": {
      "image/png": "[encoded data removed]",
      "text/plain": [
       "<Figure size 432x288 with 1 Axes>"
      ]
     },
     "metadata": {
      "needs_background": "light"
     },
     "output_type": "display_data"
    }
   ],
   "source": [
    "plt.plot(xs, ys)\n",
    "plt.show()"
   ]
  },
  {
   "cell_type": "markdown",
   "metadata": {},
   "source": [
    "Defining a neural network with tensorflow and keras in python:"
   ]
  },
  {
   "cell_type": "code",
   "execution_count": 7,
   "metadata": {},
   "outputs": [],
   "source": [
    "model = tf.keras.Sequential([keras.layers.Dense(units=1, input_shape=[1])])"
   ]
  },
  {
   "cell_type": "code",
   "execution_count": 8,
   "metadata": {},
   "outputs": [
    {
     "name": "stdout",
     "output_type": "stream",
     "text": [
      "Model: \"sequential\"\n",
      "_________________________________________________________________\n",
      "Layer (type)                 Output Shape              Param #   \n",
      "=================================================================\n",
      "dense (Dense)                (None, 1)                 2         \n",
      "=================================================================\n",
      "Total params: 2\n",
      "Trainable params: 2\n",
      "Non-trainable params: 0\n",
      "_________________________________________________________________\n"
     ]
    }
   ],
   "source": [
    "model.summary()"
   ]
  },
  {
   "cell_type": "markdown",
   "metadata": {},
   "source": [
    "The above neural network will have one input neuron and one hidden layer. \n",
    "\n",
    "**tf.keras.Sequantial** initiates a sequantial model, which is just a simple feedfoward fully connected neural network. \n",
    "\n",
    "**keras.layer.Dense** creates a layer of neurons (just one in this case) with a precoded input shape."
   ]
  },
  {
   "cell_type": "code",
   "execution_count": 9,
   "metadata": {},
   "outputs": [],
   "source": [
    "model.compile(optimizer='sgd', loss='mean_squared_error')"
   ]
  },
  {
   "cell_type": "markdown",
   "metadata": {},
   "source": [
    "The term 'sgd' stands for stochastic gradient descent. The loss function is \n",
    "$$loss(y, \\hat{y}) =  \\dfrac{1}{n} \\sum (y - \\hat{y})^{2}$$"
   ]
  },
  {
   "cell_type": "markdown",
   "metadata": {},
   "source": [
    "I will wrap everything into a function: "
   ]
  },
  {
   "cell_type": "code",
   "execution_count": 10,
   "metadata": {},
   "outputs": [],
   "source": [
    "def approx_f(xs, ys, epochs):\n",
    "    \"\"\"\n",
    "    A method to train a neural network\n",
    "    \"\"\"\n",
    "    model = tf.keras.Sequential([keras.layers.Dense(units=1, input_shape=[1])])\n",
    "    model.compile(optimizer='sgd', loss='mean_squared_error')\n",
    "    model.fit(xs, ys, epochs=epochs)\n",
    "    \n",
    "    return model"
   ]
  },
  {
   "cell_type": "code",
   "execution_count": 11,
   "metadata": {},
   "outputs": [
    {
     "name": "stdout",
     "output_type": "stream",
     "text": [
      "Train on 6 samples\n",
      "Epoch 1/100\n",
      "6/6 [==============================] - 0s 53ms/sample - loss: 23.3988\n",
      "Epoch 2/100\n",
      "6/6 [==============================] - 0s 997us/sample - loss: 15.2906\n",
      "Epoch 3/100\n",
      "6/6 [==============================] - 0s 1ms/sample - loss: 10.0653\n",
      "Epoch 4/100\n",
      "6/6 [==============================] - 0s 995us/sample - loss: 6.6970\n",
      "Epoch 5/100\n",
      "6/6 [==============================] - 0s 997us/sample - loss: 4.5248\n",
      "Epoch 6/100\n",
      "6/6 [==============================] - 0s 1ms/sample - loss: 3.1232\n",
      "Epoch 7/100\n",
      "6/6 [==============================] - 0s 831us/sample - loss: 2.2179\n",
      "Epoch 8/100\n",
      "6/6 [==============================] - 0s 1ms/sample - loss: 1.6324\n",
      "Epoch 9/100\n",
      "6/6 [==============================] - 0s 1ms/sample - loss: 1.2528\n",
      "Epoch 10/100\n",
      "6/6 [==============================] - 0s 996us/sample - loss: 1.0059\n",
      "Epoch 11/100\n",
      "6/6 [==============================] - 0s 997us/sample - loss: 0.8446\n",
      "Epoch 12/100\n",
      "6/6 [==============================] - 0s 829us/sample - loss: 0.7383\n",
      "Epoch 13/100\n",
      "6/6 [==============================] - 0s 1ms/sample - loss: 0.6676\n",
      "Epoch 14/100\n",
      "6/6 [==============================] - 0s 997us/sample - loss: 0.6198\n",
      "Epoch 15/100\n",
      "6/6 [==============================] - 0s 997us/sample - loss: 0.5867\n",
      "Epoch 16/100\n",
      "6/6 [==============================] - 0s 999us/sample - loss: 0.5633\n",
      "Epoch 17/100\n",
      "6/6 [==============================] - 0s 830us/sample - loss: 0.5459\n",
      "Epoch 18/100\n",
      "6/6 [==============================] - 0s 997us/sample - loss: 0.5326\n",
      "Epoch 19/100\n",
      "6/6 [==============================] - 0s 997us/sample - loss: 0.5219\n",
      "Epoch 20/100\n",
      "6/6 [==============================] - 0s 997us/sample - loss: 0.5129\n",
      "Epoch 21/100\n",
      "6/6 [==============================] - 0s 997us/sample - loss: 0.5050\n",
      "Epoch 22/100\n",
      "6/6 [==============================] - 0s 831us/sample - loss: 0.4979\n",
      "Epoch 23/100\n",
      "6/6 [==============================] - 0s 997us/sample - loss: 0.4913\n",
      "Epoch 24/100\n",
      "6/6 [==============================] - 0s 831us/sample - loss: 0.4850\n",
      "Epoch 25/100\n",
      "6/6 [==============================] - 0s 998us/sample - loss: 0.4790\n",
      "Epoch 26/100\n",
      "6/6 [==============================] - 0s 998us/sample - loss: 0.4731\n",
      "Epoch 27/100\n",
      "6/6 [==============================] - 0s 831us/sample - loss: 0.4674\n",
      "Epoch 28/100\n",
      "6/6 [==============================] - 0s 998us/sample - loss: 0.4618\n",
      "Epoch 29/100\n",
      "6/6 [==============================] - 0s 997us/sample - loss: 0.4563\n",
      "Epoch 30/100\n",
      "6/6 [==============================] - 0s 997us/sample - loss: 0.4509\n",
      "Epoch 31/100\n",
      "6/6 [==============================] - 0s 997us/sample - loss: 0.4456\n",
      "Epoch 32/100\n",
      "6/6 [==============================] - 0s 831us/sample - loss: 0.4403\n",
      "Epoch 33/100\n",
      "6/6 [==============================] - 0s 997us/sample - loss: 0.4351\n",
      "Epoch 34/100\n",
      "6/6 [==============================] - 0s 831us/sample - loss: 0.4300\n",
      "Epoch 35/100\n",
      "6/6 [==============================] - 0s 997us/sample - loss: 0.4249\n",
      "Epoch 36/100\n",
      "6/6 [==============================] - 0s 997us/sample - loss: 0.4199\n",
      "Epoch 37/100\n",
      "6/6 [==============================] - 0s 831us/sample - loss: 0.4149\n",
      "Epoch 38/100\n",
      "6/6 [==============================] - 0s 831us/sample - loss: 0.4101\n",
      "Epoch 39/100\n",
      "6/6 [==============================] - 0s 997us/sample - loss: 0.4052\n",
      "Epoch 40/100\n",
      "6/6 [==============================] - 0s 831us/sample - loss: 0.4004\n",
      "Epoch 41/100\n",
      "6/6 [==============================] - 0s 997us/sample - loss: 0.3957\n",
      "Epoch 42/100\n",
      "6/6 [==============================] - 0s 831us/sample - loss: 0.3911\n",
      "Epoch 43/100\n",
      "6/6 [==============================] - 0s 831us/sample - loss: 0.3865\n",
      "Epoch 44/100\n",
      "6/6 [==============================] - 0s 997us/sample - loss: 0.3819\n",
      "Epoch 45/100\n",
      "6/6 [==============================] - 0s 998us/sample - loss: 0.3774\n",
      "Epoch 46/100\n",
      "6/6 [==============================] - 0s 836us/sample - loss: 0.3729\n",
      "Epoch 47/100\n",
      "6/6 [==============================] - 0s 831us/sample - loss: 0.3686\n",
      "Epoch 48/100\n",
      "6/6 [==============================] - 0s 997us/sample - loss: 0.3642\n",
      "Epoch 49/100\n",
      "6/6 [==============================] - 0s 997us/sample - loss: 0.3599\n",
      "Epoch 50/100\n",
      "6/6 [==============================] - 0s 997us/sample - loss: 0.3557\n",
      "Epoch 51/100\n",
      "6/6 [==============================] - 0s 997us/sample - loss: 0.3515\n",
      "Epoch 52/100\n",
      "6/6 [==============================] - 0s 997us/sample - loss: 0.3473\n",
      "Epoch 53/100\n",
      "6/6 [==============================] - 0s 831us/sample - loss: 0.3433\n",
      "Epoch 54/100\n",
      "6/6 [==============================] - 0s 997us/sample - loss: 0.3392\n",
      "Epoch 55/100\n",
      "6/6 [==============================] - 0s 997us/sample - loss: 0.3352\n",
      "Epoch 56/100\n",
      "6/6 [==============================] - 0s 831us/sample - loss: 0.3313\n",
      "Epoch 57/100\n",
      "6/6 [==============================] - 0s 997us/sample - loss: 0.3274\n",
      "Epoch 58/100\n",
      "6/6 [==============================] - 0s 831us/sample - loss: 0.3235\n",
      "Epoch 59/100\n",
      "6/6 [==============================] - 0s 831us/sample - loss: 0.3197\n",
      "Epoch 60/100\n",
      "6/6 [==============================] - 0s 997us/sample - loss: 0.3159\n",
      "Epoch 61/100\n",
      "6/6 [==============================] - 0s 831us/sample - loss: 0.3122\n",
      "Epoch 62/100\n",
      "6/6 [==============================] - 0s 998us/sample - loss: 0.3085\n",
      "Epoch 63/100\n",
      "6/6 [==============================] - 0s 831us/sample - loss: 0.3049\n",
      "Epoch 64/100\n",
      "6/6 [==============================] - 0s 831us/sample - loss: 0.3013\n",
      "Epoch 65/100\n",
      "6/6 [==============================] - 0s 831us/sample - loss: 0.2977\n",
      "Epoch 66/100\n",
      "6/6 [==============================] - 0s 997us/sample - loss: 0.2942\n",
      "Epoch 67/100\n",
      "6/6 [==============================] - 0s 997us/sample - loss: 0.2908\n",
      "Epoch 68/100\n",
      "6/6 [==============================] - 0s 831us/sample - loss: 0.2873\n",
      "Epoch 69/100\n",
      "6/6 [==============================] - 0s 997us/sample - loss: 0.2840\n",
      "Epoch 70/100\n",
      "6/6 [==============================] - 0s 998us/sample - loss: 0.2806\n",
      "Epoch 71/100\n",
      "6/6 [==============================] - 0s 997us/sample - loss: 0.2773\n",
      "Epoch 72/100\n",
      "6/6 [==============================] - 0s 831us/sample - loss: 0.2740\n",
      "Epoch 73/100\n",
      "6/6 [==============================] - 0s 998us/sample - loss: 0.2708\n",
      "Epoch 74/100\n",
      "6/6 [==============================] - 0s 831us/sample - loss: 0.2676\n",
      "Epoch 75/100\n",
      "6/6 [==============================] - 0s 831us/sample - loss: 0.2645\n",
      "Epoch 76/100\n",
      "6/6 [==============================] - 0s 831us/sample - loss: 0.2613\n",
      "Epoch 77/100\n",
      "6/6 [==============================] - 0s 831us/sample - loss: 0.2583\n",
      "Epoch 78/100\n",
      "6/6 [==============================] - 0s 997us/sample - loss: 0.2552\n",
      "Epoch 79/100\n",
      "6/6 [==============================] - 0s 831us/sample - loss: 0.2522\n",
      "Epoch 80/100\n",
      "6/6 [==============================] - 0s 831us/sample - loss: 0.2492\n",
      "Epoch 81/100\n",
      "6/6 [==============================] - 0s 997us/sample - loss: 0.2463\n",
      "Epoch 82/100\n",
      "6/6 [==============================] - 0s 831us/sample - loss: 0.2434\n",
      "Epoch 83/100\n",
      "6/6 [==============================] - 0s 997us/sample - loss: 0.2405\n",
      "Epoch 84/100\n",
      "6/6 [==============================] - 0s 997us/sample - loss: 0.2377\n",
      "Epoch 85/100\n",
      "6/6 [==============================] - 0s 831us/sample - loss: 0.2349\n",
      "Epoch 86/100\n",
      "6/6 [==============================] - 0s 831us/sample - loss: 0.2321\n",
      "Epoch 87/100\n",
      "6/6 [==============================] - 0s 997us/sample - loss: 0.2294\n",
      "Epoch 88/100\n",
      "6/6 [==============================] - 0s 997us/sample - loss: 0.2267\n",
      "Epoch 89/100\n",
      "6/6 [==============================] - 0s 831us/sample - loss: 0.2240\n",
      "Epoch 90/100\n",
      "6/6 [==============================] - 0s 997us/sample - loss: 0.2214\n",
      "Epoch 91/100\n",
      "6/6 [==============================] - 0s 997us/sample - loss: 0.2188\n",
      "Epoch 92/100\n",
      "6/6 [==============================] - 0s 997us/sample - loss: 0.2162\n",
      "Epoch 93/100\n",
      "6/6 [==============================] - 0s 998us/sample - loss: 0.2136\n",
      "Epoch 94/100\n",
      "6/6 [==============================] - 0s 997us/sample - loss: 0.2111\n",
      "Epoch 95/100\n",
      "6/6 [==============================] - 0s 997us/sample - loss: 0.2086\n",
      "Epoch 96/100\n",
      "6/6 [==============================] - 0s 997us/sample - loss: 0.2062\n",
      "Epoch 97/100\n",
      "6/6 [==============================] - 0s 831us/sample - loss: 0.2037\n",
      "Epoch 98/100\n",
      "6/6 [==============================] - 0s 831us/sample - loss: 0.2013\n",
      "Epoch 99/100\n",
      "6/6 [==============================] - 0s 997us/sample - loss: 0.1990\n"
     ]
    },
    {
     "name": "stdout",
     "output_type": "stream",
     "text": [
      "Epoch 100/100\n",
      "6/6 [==============================] - 0s 997us/sample - loss: 0.1966\n"
     ]
    }
   ],
   "source": [
    "model = approx_f(xs, ys, 100)"
   ]
  },
  {
   "cell_type": "markdown",
   "metadata": {},
   "source": [
    "After each epoch we can see the loss function's value. In general, this value should decrease with every epoch. If the value is not decreasing that means that either we are starting to overfit, something is wrong with the model specifications or the X values are not suitable to explain the Y values. "
   ]
  },
  {
   "cell_type": "code",
   "execution_count": 12,
   "metadata": {},
   "outputs": [
    {
     "data": {
      "text/plain": [
       "array([10.460748], dtype=float32)"
      ]
     },
     "execution_count": 12,
     "metadata": {},
     "output_type": "execute_result"
    }
   ],
   "source": [
    "model.predict([6])[0]"
   ]
  },
  {
   "cell_type": "code",
   "execution_count": 13,
   "metadata": {},
   "outputs": [
    {
     "data": {
      "text/plain": [
       "11"
      ]
     },
     "execution_count": 13,
     "metadata": {},
     "output_type": "execute_result"
    }
   ],
   "source": [
    "f(6)"
   ]
  },
  {
   "cell_type": "markdown",
   "metadata": {},
   "source": [
    "As we can see, the true value of the function with x=6 is close to the predicted value of our neural network. By increasing the number of epochs, we can achieve better accuracy. The reader can play around with changing the number of epochs. At around 1 thousand epochs, the predicted value should be very very near 11."
   ]
  },
  {
   "cell_type": "code",
   "execution_count": null,
   "metadata": {},
   "outputs": [],
   "source": []
  }
 ],
 "metadata": {
  "kernelspec": {
   "display_name": "deep-tf",
   "language": "python",
   "name": "deep-tf"
  },
  "language_info": {
   "codemirror_mode": {
    "name": "ipython",
    "version": 3
   },
   "file_extension": ".py",
   "mimetype": "text/x-python",
   "name": "python",
   "nbconvert_exporter": "python",
   "pygments_lexer": "ipython3",
   "version": "3.7.7"
  }
 },
 "nbformat": 4,
 "nbformat_minor": 2
}
