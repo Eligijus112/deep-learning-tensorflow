{
 "cells": [
  {
   "cell_type": "markdown",
   "metadata": {},
   "source": [
    "# IMDB dataset"
   ]
  },
  {
   "cell_type": "markdown",
   "metadata": {},
   "source": [
    "The data was downloaded from here: https://www.kaggle.com/lakshmi25npathi/imdb-dataset-of-50k-movie-reviews. \n",
    "\n",
    "The dataset contains 50000 thousand movie reviews, 25 thousand labeled as positive reviews and 25 thousand negative reviews. "
   ]
  },
  {
   "cell_type": "code",
   "execution_count": 1,
   "metadata": {},
   "outputs": [
    {
     "data": {
      "text/html": [
       "<div>\n",
       "<style scoped>\n",
       "    .dataframe tbody tr th:only-of-type {\n",
       "        vertical-align: middle;\n",
       "    }\n",
       "\n",
       "    .dataframe tbody tr th {\n",
       "        vertical-align: top;\n",
       "    }\n",
       "\n",
       "    .dataframe thead th {\n",
       "        text-align: right;\n",
       "    }\n",
       "</style>\n",
       "<table border=\"1\" class=\"dataframe\">\n",
       "  <thead>\n",
       "    <tr style=\"text-align: right;\">\n",
       "      <th></th>\n",
       "      <th>review</th>\n",
       "      <th>sentiment</th>\n",
       "    </tr>\n",
       "  </thead>\n",
       "  <tbody>\n",
       "    <tr>\n",
       "      <th>0</th>\n",
       "      <td>One of the other reviewers has mentioned that ...</td>\n",
       "      <td>positive</td>\n",
       "    </tr>\n",
       "    <tr>\n",
       "      <th>1</th>\n",
       "      <td>A wonderful little production. &lt;br /&gt;&lt;br /&gt;The...</td>\n",
       "      <td>positive</td>\n",
       "    </tr>\n",
       "    <tr>\n",
       "      <th>2</th>\n",
       "      <td>I thought this was a wonderful way to spend ti...</td>\n",
       "      <td>positive</td>\n",
       "    </tr>\n",
       "    <tr>\n",
       "      <th>3</th>\n",
       "      <td>Basically there's a family where a little boy ...</td>\n",
       "      <td>negative</td>\n",
       "    </tr>\n",
       "    <tr>\n",
       "      <th>4</th>\n",
       "      <td>Petter Mattei's \"Love in the Time of Money\" is...</td>\n",
       "      <td>positive</td>\n",
       "    </tr>\n",
       "  </tbody>\n",
       "</table>\n",
       "</div>"
      ],
      "text/plain": [
       "                                              review sentiment\n",
       "0  One of the other reviewers has mentioned that ...  positive\n",
       "1  A wonderful little production. <br /><br />The...  positive\n",
       "2  I thought this was a wonderful way to spend ti...  positive\n",
       "3  Basically there's a family where a little boy ...  negative\n",
       "4  Petter Mattei's \"Love in the Time of Money\" is...  positive"
      ]
     },
     "execution_count": 1,
     "metadata": {},
     "output_type": "execute_result"
    }
   ],
   "source": [
    "import pandas as pd \n",
    "import os\n",
    "\n",
    "d = pd.read_csv(f'{os.getcwd()}/NLP/movie-reviews/IMDB Dataset.csv')\n",
    "\n",
    "d.head()"
   ]
  },
  {
   "cell_type": "code",
   "execution_count": 2,
   "metadata": {},
   "outputs": [
    {
     "data": {
      "text/plain": [
       "sentiment\n",
       "negative    25000\n",
       "positive    25000\n",
       "dtype: int64"
      ]
     },
     "execution_count": 2,
     "metadata": {},
     "output_type": "execute_result"
    }
   ],
   "source": [
    "d.groupby('sentiment').size()"
   ]
  },
  {
   "cell_type": "markdown",
   "metadata": {},
   "source": [
    "The classes are distributed uniformaly.\n",
    "\n",
    "Let us split the data into a train and test sets."
   ]
  },
  {
   "cell_type": "code",
   "execution_count": 3,
   "metadata": {},
   "outputs": [],
   "source": [
    "import numpy as np\n",
    "\n",
    "train = d.sample(frac=0.85)\n",
    "test = d.drop(train.index)\n",
    "\n",
    "# Creating the X and Y matrices \n",
    "X_train = train['review'].tolist()\n",
    "Y_train = train['sentiment'].tolist()\n",
    "\n",
    "X_test = test['review'].tolist()\n",
    "Y_test = test['sentiment'].tolist()\n",
    "\n",
    "# Converting to numeric\n",
    "Y_train = np.array([1 if x=='positive' else 0 for x in Y_train])\n",
    "Y_test = np.array([1 if x=='positive' else 0 for x in Y_test])"
   ]
  },
  {
   "cell_type": "markdown",
   "metadata": {},
   "source": [
    "# Text preprocesing "
   ]
  },
  {
   "cell_type": "markdown",
   "metadata": {},
   "source": [
    "I will use the same text preprocesing pipeline as in the previous chapter."
   ]
  },
  {
   "cell_type": "code",
   "execution_count": 4,
   "metadata": {},
   "outputs": [],
   "source": [
    "from tensorflow.keras.preprocessing.text import Tokenizer\n",
    "from tensorflow.keras.preprocessing.sequence import pad_sequences\n",
    "\n",
    "def remove_stop_words(string: str, stop_words=[]) -> str:\n",
    "    \"\"\"\n",
    "    Removes stop words from a string\n",
    "    \"\"\"\n",
    "    string = ' '.join([word for word in string.split() if word not in stop_words])\n",
    "    \n",
    "    return string\n",
    "\n",
    "def preproces_text(strings: list, tokenizer=None, maxlen=None, num_words=None):\n",
    "    \"\"\"\n",
    "    A text preprocesing pipeline\n",
    "    \"\"\"\n",
    "    \n",
    "    if tokenizer is None:\n",
    "        # Initating the tokenizer\n",
    "        tokenizer = Tokenizer(oov_token='<OOV>', num_words=num_words)\n",
    "\n",
    "    # Fitting on our texts\n",
    "    tokenizer.fit_on_texts(strings)\n",
    "\n",
    "    # Text to sequences\n",
    "    sequences = tokenizer.texts_to_sequences(strings)\n",
    "\n",
    "    # Padding\n",
    "    matrix = pad_sequences(sequences, padding='post', maxlen=maxlen)\n",
    "    \n",
    "    return matrix, tokenizer"
   ]
  },
  {
   "cell_type": "code",
   "execution_count": 5,
   "metadata": {},
   "outputs": [],
   "source": [
    "# Reading the stop words\n",
    "stop_words = pd.read_csv(f'{os.getcwd()}/NLP/stop_words.txt', sep='\\n', header=None)[0].tolist()\n",
    "\n",
    "# Top n words from the corpus based on frequency\n",
    "num_words = 12000\n",
    "\n",
    "# Maximum padding \n",
    "maxlen = 160\n",
    "\n",
    "# Removing stop words\n",
    "X_train = [remove_stop_words(x, stop_words=stop_words) for x in X_train]\n",
    "\n",
    "# Creating the X train matrix and tokenizer object\n",
    "X_train, tokenizer = preproces_text(\n",
    "    X_train, \n",
    "    num_words=num_words, \n",
    "    maxlen=maxlen\n",
    ")\n",
    "\n",
    "# Creating the test matrix\n",
    "X_test, _ = preproces_text(X_test, tokenizer=tokenizer, maxlen=X_train.shape[1])"
   ]
  },
  {
   "cell_type": "code",
   "execution_count": 6,
   "metadata": {},
   "outputs": [
    {
     "name": "stdout",
     "output_type": "stream",
     "text": [
      "Shape of training data: (42500, 160)\n",
      "Shape of test data: (7500, 160)\n"
     ]
    }
   ],
   "source": [
    "print(f'Shape of training data: {X_train.shape}')\n",
    "print(f'Shape of test data: {X_test.shape}')"
   ]
  },
  {
   "cell_type": "markdown",
   "metadata": {},
   "source": [
    "# Creating the word embedding matrix"
   ]
  },
  {
   "cell_type": "markdown",
   "metadata": {},
   "source": [
    "There are awesome pretrained word embeddings located here: https://nlp.stanford.edu/projects/glove/. We will create an embedding matrix using this information."
   ]
  },
  {
   "cell_type": "code",
   "execution_count": 7,
   "metadata": {},
   "outputs": [],
   "source": [
    "def get_coefs(word, *arr): \n",
    "    \"\"\"\n",
    "    Get coefficient from an embedding file\n",
    "    \"\"\"\n",
    "    return word, np.asarray(arr, dtype='float32')\n",
    "\n",
    "def get_embedding_index(path):\n",
    "    \"\"\"\n",
    "    Creating the dictionary from the embedding file\n",
    "    \"\"\"\n",
    "    embeddings_index = dict(get_coefs(*o.split(\" \")) for o in open(path, errors='ignore'))\n",
    "    return embeddings_index\n",
    "\n",
    "# Creating the word embeddings. I am using the word embeddings saved on my machine \n",
    "path = f'{os.getcwd()}/../../embeddings/glove.840B.300d.txt'\n",
    "\n",
    "# Creating the embeding index\n",
    "embed_index = get_embedding_index(path=path)"
   ]
  },
  {
   "cell_type": "code",
   "execution_count": 8,
   "metadata": {},
   "outputs": [],
   "source": [
    "# Getting the word index from the tokenizer\n",
    "word_index = tokenizer.word_index\n",
    "\n",
    "# Matrix creation\n",
    "embedding_matrix = np.zeros((len(word_index) + 1, 300))\n",
    "for index, word in enumerate(word_index.keys()):\n",
    "    if index > len(word_index):\n",
    "        break\n",
    "    else:\n",
    "        try:\n",
    "            embedding_matrix[index] = embed_index[word]\n",
    "        except:\n",
    "            continue"
   ]
  },
  {
   "cell_type": "markdown",
   "metadata": {},
   "source": [
    "# Defining the model"
   ]
  },
  {
   "cell_type": "code",
   "execution_count": 9,
   "metadata": {},
   "outputs": [],
   "source": [
    "import tensorflow as tf\n",
    "\n",
    "model = tf.keras.Sequential([\n",
    "    tf.keras.layers.Embedding(embedding_matrix.shape[0], 300, weights=[embedding_matrix], trainable=False),\n",
    "    tf.keras.layers.Bidirectional(tf.keras.layers.LSTM(64, return_sequences=True)),\n",
    "    tf.keras.layers.Bidirectional(tf.keras.layers.LSTM(32)),\n",
    "    tf.keras.layers.Dropout(0.2),\n",
    "    tf.keras.layers.Dense(64, activation='relu'),\n",
    "    tf.keras.layers.Dense(1, activation='sigmoid')\n",
    "])\n",
    "model.compile(loss='binary_crossentropy',optimizer='adam',metrics=['accuracy'])"
   ]
  },
  {
   "cell_type": "code",
   "execution_count": 10,
   "metadata": {},
   "outputs": [
    {
     "name": "stdout",
     "output_type": "stream",
     "text": [
      "Model: \"sequential\"\n",
      "_________________________________________________________________\n",
      "Layer (type)                 Output Shape              Param #   \n",
      "=================================================================\n",
      "embedding (Embedding)        (None, None, 300)         37037400  \n",
      "_________________________________________________________________\n",
      "bidirectional (Bidirectional (None, None, 128)         186880    \n",
      "_________________________________________________________________\n",
      "bidirectional_1 (Bidirection (None, 64)                41216     \n",
      "_________________________________________________________________\n",
      "dropout (Dropout)            (None, 64)                0         \n",
      "_________________________________________________________________\n",
      "dense (Dense)                (None, 64)                4160      \n",
      "_________________________________________________________________\n",
      "dense_1 (Dense)              (None, 1)                 65        \n",
      "=================================================================\n",
      "Total params: 37,269,721\n",
      "Trainable params: 232,321\n",
      "Non-trainable params: 37,037,400\n",
      "_________________________________________________________________\n"
     ]
    }
   ],
   "source": [
    "model.summary()"
   ]
  },
  {
   "cell_type": "code",
   "execution_count": 11,
   "metadata": {},
   "outputs": [
    {
     "name": "stdout",
     "output_type": "stream",
     "text": [
      "Train on 42500 samples, validate on 7500 samples\n",
      "Epoch 1/10\n",
      "42500/42500 [==============================] - 750s 18ms/sample - loss: 0.6069 - accuracy: 0.6649 - val_loss: 0.8029 - val_accuracy: 0.5264\n",
      "Epoch 2/10\n",
      "42500/42500 [==============================] - 613s 14ms/sample - loss: 0.4261 - accuracy: 0.8060 - val_loss: 1.2379 - val_accuracy: 0.5199\n",
      "Epoch 3/10\n",
      "42500/42500 [==============================] - 574s 14ms/sample - loss: 0.3289 - accuracy: 0.8590 - val_loss: 1.0311 - val_accuracy: 0.5200\n",
      "Epoch 4/10\n",
      "42500/42500 [==============================] - 591s 14ms/sample - loss: 0.2715 - accuracy: 0.8873 - val_loss: 1.1927 - val_accuracy: 0.5177\n",
      "Epoch 5/10\n",
      "42500/42500 [==============================] - 796s 19ms/sample - loss: 0.2282 - accuracy: 0.9085 - val_loss: 1.1713 - val_accuracy: 0.5137\n",
      "Epoch 6/10\n",
      "42500/42500 [==============================] - 623s 15ms/sample - loss: 0.1828 - accuracy: 0.9279 - val_loss: 1.4608 - val_accuracy: 0.5063\n",
      "Epoch 7/10\n",
      "42500/42500 [==============================] - 674s 16ms/sample - loss: 0.1425 - accuracy: 0.9462 - val_loss: 1.3060 - val_accuracy: 0.5125\n",
      "Epoch 8/10\n",
      "42500/42500 [==============================] - 669s 16ms/sample - loss: 0.1062 - accuracy: 0.9609 - val_loss: 1.5532 - val_accuracy: 0.5076\n",
      "Epoch 9/10\n",
      "42500/42500 [==============================] - 922s 22ms/sample - loss: 0.0822 - accuracy: 0.9708 - val_loss: 2.0204 - val_accuracy: 0.5167\n",
      "Epoch 10/10\n",
      "42500/42500 [==============================] - 685s 16ms/sample - loss: 0.0704 - accuracy: 0.9758 - val_loss: 2.3433 - val_accuracy: 0.4979\n"
     ]
    }
   ],
   "source": [
    "num_epochs = 10\n",
    "history = model.fit(X_train, Y_train, epochs=num_epochs, validation_data=(X_test, Y_test))"
   ]
  },
  {
   "cell_type": "code",
   "execution_count": 12,
   "metadata": {},
   "outputs": [],
   "source": [
    "import matplotlib.pyplot as plt\n",
    "\n",
    "def plot_graphs(history, string):\n",
    "  plt.plot(history.history[string])\n",
    "  plt.plot(history.history['val_'+string])\n",
    "  plt.xlabel(\"Epochs\")\n",
    "  plt.ylabel(string)\n",
    "  plt.legend([string, 'val_'+string])\n",
    "  plt.show()"
   ]
  },
  {
   "cell_type": "code",
   "execution_count": 13,
   "metadata": {},
   "outputs": [
    {
     "data": {
      "image/png": "[encoded data removed]",
      "text/plain": [
       "<Figure size 432x288 with 1 Axes>"
      ]
     },
     "metadata": {
      "needs_background": "light"
     },
     "output_type": "display_data"
    }
   ],
   "source": [
    "plot_graphs(history, 'accuracy')"
   ]
  },
  {
   "cell_type": "code",
   "execution_count": 14,
   "metadata": {},
   "outputs": [
    {
     "data": {
      "image/png": "[encoded data removed]",
      "text/plain": [
       "<Figure size 432x288 with 1 Axes>"
      ]
     },
     "metadata": {
      "needs_background": "light"
     },
     "output_type": "display_data"
    }
   ],
   "source": [
    "plot_graphs(history, 'loss')"
   ]
  },
  {
   "cell_type": "markdown",
   "metadata": {},
   "source": [
    "The validation set is not that great but it can be improved by using bigger **maxlen** values, **num_words**, using other custom word embeddings. \n",
    "\n",
    "Feel free to experiment with those values yourself."
   ]
  }
 ],
 "metadata": {
  "kernelspec": {
   "display_name": "deep-tf",
   "language": "python",
   "name": "deep-tf"
  },
  "language_info": {
   "codemirror_mode": {
    "name": "ipython",
    "version": 3
   },
   "file_extension": ".py",
   "mimetype": "text/x-python",
   "name": "python",
   "nbconvert_exporter": "python",
   "pygments_lexer": "ipython3",
   "version": "3.7.7"
  }
 },
 "nbformat": 4,
 "nbformat_minor": 2
}
